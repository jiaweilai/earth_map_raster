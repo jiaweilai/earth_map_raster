import glob
import pandas as pd
import numpy as np
import cartopy.crs as ccrs

import matplotlib
import matplotlib.pyplot as plt
import matplotlib.backends.backend_pdf as pdf
from matplotlib.colors import LinearSegmentedColormap as lsc
%matplotlib inline

# Define input and output variable
DIR_OUTPUT = "./output/"
DIR_RAW_INPUT = "./raw_data/"

# Image size
figsize = (19.53/2, 18.55/2)

